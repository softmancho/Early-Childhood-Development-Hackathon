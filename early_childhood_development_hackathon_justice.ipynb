{
 "cells": [
  {
   "cell_type": "code",
   "execution_count": 1,
   "id": "8e9e4f82",
   "metadata": {},
   "outputs": [],
   "source": [
    "import pandas as pd\n",
    "import numpy as np\n",
    "from sklearn.preprocessing import StandardScaler\n",
    "from sklearn.preprocessing import MinMaxScaler\n",
    "from sklearn.preprocessing import normalize\n",
    "from sklearn.preprocessing import Normalizer\n"
   ]
  },
  {
   "cell_type": "markdown",
   "id": "c3f2edc5",
   "metadata": {},
   "source": [
    "#"
   ]
  },
  {
   "cell_type": "code",
   "execution_count": 2,
   "id": "810015d1",
   "metadata": {},
   "outputs": [
    {
     "ename": "FileNotFoundError",
     "evalue": "[Errno 2] No such file or directory: 'DataDrive2030_PD_EXTERNAL.dta'",
     "output_type": "error",
     "traceback": [
      "\u001b[0;31m---------------------------------------------------------------------------\u001b[0m",
      "\u001b[0;31mFileNotFoundError\u001b[0m                         Traceback (most recent call last)",
      "Input \u001b[0;32mIn [2]\u001b[0m, in \u001b[0;36m<cell line: 1>\u001b[0;34m()\u001b[0m\n\u001b[0;32m----> 1\u001b[0m data\u001b[38;5;241m=\u001b[39m \u001b[43mpd\u001b[49m\u001b[38;5;241;43m.\u001b[39;49m\u001b[43mread_stata\u001b[49m\u001b[43m(\u001b[49m\u001b[38;5;124;43m'\u001b[39;49m\u001b[38;5;124;43mDataDrive2030_PD_EXTERNAL.dta\u001b[39;49m\u001b[38;5;124;43m'\u001b[39;49m\u001b[43m)\u001b[49m\n",
      "File \u001b[0;32m~/mambaforge/lib/python3.9/site-packages/pandas/io/stata.py:2004\u001b[0m, in \u001b[0;36mread_stata\u001b[0;34m(filepath_or_buffer, convert_dates, convert_categoricals, index_col, convert_missing, preserve_dtypes, columns, order_categoricals, chunksize, iterator, compression, storage_options)\u001b[0m\n\u001b[1;32m   1988\u001b[0m \u001b[38;5;129m@Appender\u001b[39m(_read_stata_doc)\n\u001b[1;32m   1989\u001b[0m \u001b[38;5;28;01mdef\u001b[39;00m \u001b[38;5;21mread_stata\u001b[39m(\n\u001b[1;32m   1990\u001b[0m     filepath_or_buffer: FilePath \u001b[38;5;241m|\u001b[39m ReadBuffer[\u001b[38;5;28mbytes\u001b[39m],\n\u001b[0;32m   (...)\u001b[0m\n\u001b[1;32m   2001\u001b[0m     storage_options: StorageOptions \u001b[38;5;241m=\u001b[39m \u001b[38;5;28;01mNone\u001b[39;00m,\n\u001b[1;32m   2002\u001b[0m ) \u001b[38;5;241m-\u001b[39m\u001b[38;5;241m>\u001b[39m DataFrame \u001b[38;5;241m|\u001b[39m StataReader:\n\u001b[0;32m-> 2004\u001b[0m     reader \u001b[38;5;241m=\u001b[39m \u001b[43mStataReader\u001b[49m\u001b[43m(\u001b[49m\n\u001b[1;32m   2005\u001b[0m \u001b[43m        \u001b[49m\u001b[43mfilepath_or_buffer\u001b[49m\u001b[43m,\u001b[49m\n\u001b[1;32m   2006\u001b[0m \u001b[43m        \u001b[49m\u001b[43mconvert_dates\u001b[49m\u001b[38;5;241;43m=\u001b[39;49m\u001b[43mconvert_dates\u001b[49m\u001b[43m,\u001b[49m\n\u001b[1;32m   2007\u001b[0m \u001b[43m        \u001b[49m\u001b[43mconvert_categoricals\u001b[49m\u001b[38;5;241;43m=\u001b[39;49m\u001b[43mconvert_categoricals\u001b[49m\u001b[43m,\u001b[49m\n\u001b[1;32m   2008\u001b[0m \u001b[43m        \u001b[49m\u001b[43mindex_col\u001b[49m\u001b[38;5;241;43m=\u001b[39;49m\u001b[43mindex_col\u001b[49m\u001b[43m,\u001b[49m\n\u001b[1;32m   2009\u001b[0m \u001b[43m        \u001b[49m\u001b[43mconvert_missing\u001b[49m\u001b[38;5;241;43m=\u001b[39;49m\u001b[43mconvert_missing\u001b[49m\u001b[43m,\u001b[49m\n\u001b[1;32m   2010\u001b[0m \u001b[43m        \u001b[49m\u001b[43mpreserve_dtypes\u001b[49m\u001b[38;5;241;43m=\u001b[39;49m\u001b[43mpreserve_dtypes\u001b[49m\u001b[43m,\u001b[49m\n\u001b[1;32m   2011\u001b[0m \u001b[43m        \u001b[49m\u001b[43mcolumns\u001b[49m\u001b[38;5;241;43m=\u001b[39;49m\u001b[43mcolumns\u001b[49m\u001b[43m,\u001b[49m\n\u001b[1;32m   2012\u001b[0m \u001b[43m        \u001b[49m\u001b[43morder_categoricals\u001b[49m\u001b[38;5;241;43m=\u001b[39;49m\u001b[43morder_categoricals\u001b[49m\u001b[43m,\u001b[49m\n\u001b[1;32m   2013\u001b[0m \u001b[43m        \u001b[49m\u001b[43mchunksize\u001b[49m\u001b[38;5;241;43m=\u001b[39;49m\u001b[43mchunksize\u001b[49m\u001b[43m,\u001b[49m\n\u001b[1;32m   2014\u001b[0m \u001b[43m        \u001b[49m\u001b[43mstorage_options\u001b[49m\u001b[38;5;241;43m=\u001b[39;49m\u001b[43mstorage_options\u001b[49m\u001b[43m,\u001b[49m\n\u001b[1;32m   2015\u001b[0m \u001b[43m        \u001b[49m\u001b[43mcompression\u001b[49m\u001b[38;5;241;43m=\u001b[39;49m\u001b[43mcompression\u001b[49m\u001b[43m,\u001b[49m\n\u001b[1;32m   2016\u001b[0m \u001b[43m    \u001b[49m\u001b[43m)\u001b[49m\n\u001b[1;32m   2018\u001b[0m     \u001b[38;5;28;01mif\u001b[39;00m iterator \u001b[38;5;129;01mor\u001b[39;00m chunksize:\n\u001b[1;32m   2019\u001b[0m         \u001b[38;5;28;01mreturn\u001b[39;00m reader\n",
      "File \u001b[0;32m~/mambaforge/lib/python3.9/site-packages/pandas/io/stata.py:1151\u001b[0m, in \u001b[0;36mStataReader.__init__\u001b[0;34m(self, path_or_buf, convert_dates, convert_categoricals, index_col, convert_missing, preserve_dtypes, columns, order_categoricals, chunksize, compression, storage_options)\u001b[0m\n\u001b[1;32m   1148\u001b[0m \u001b[38;5;28mself\u001b[39m\u001b[38;5;241m.\u001b[39m_lines_read \u001b[38;5;241m=\u001b[39m \u001b[38;5;241m0\u001b[39m\n\u001b[1;32m   1150\u001b[0m \u001b[38;5;28mself\u001b[39m\u001b[38;5;241m.\u001b[39m_native_byteorder \u001b[38;5;241m=\u001b[39m _set_endianness(sys\u001b[38;5;241m.\u001b[39mbyteorder)\n\u001b[0;32m-> 1151\u001b[0m \u001b[38;5;28;01mwith\u001b[39;00m \u001b[43mget_handle\u001b[49m\u001b[43m(\u001b[49m\n\u001b[1;32m   1152\u001b[0m \u001b[43m    \u001b[49m\u001b[43mpath_or_buf\u001b[49m\u001b[43m,\u001b[49m\n\u001b[1;32m   1153\u001b[0m \u001b[43m    \u001b[49m\u001b[38;5;124;43m\"\u001b[39;49m\u001b[38;5;124;43mrb\u001b[39;49m\u001b[38;5;124;43m\"\u001b[39;49m\u001b[43m,\u001b[49m\n\u001b[1;32m   1154\u001b[0m \u001b[43m    \u001b[49m\u001b[43mstorage_options\u001b[49m\u001b[38;5;241;43m=\u001b[39;49m\u001b[43mstorage_options\u001b[49m\u001b[43m,\u001b[49m\n\u001b[1;32m   1155\u001b[0m \u001b[43m    \u001b[49m\u001b[43mis_text\u001b[49m\u001b[38;5;241;43m=\u001b[39;49m\u001b[38;5;28;43;01mFalse\u001b[39;49;00m\u001b[43m,\u001b[49m\n\u001b[1;32m   1156\u001b[0m \u001b[43m    \u001b[49m\u001b[43mcompression\u001b[49m\u001b[38;5;241;43m=\u001b[39;49m\u001b[43mcompression\u001b[49m\u001b[43m,\u001b[49m\n\u001b[1;32m   1157\u001b[0m \u001b[43m\u001b[49m\u001b[43m)\u001b[49m \u001b[38;5;28;01mas\u001b[39;00m handles:\n\u001b[1;32m   1158\u001b[0m     \u001b[38;5;66;03m# Copy to BytesIO, and ensure no encoding\u001b[39;00m\n\u001b[1;32m   1159\u001b[0m     \u001b[38;5;28mself\u001b[39m\u001b[38;5;241m.\u001b[39mpath_or_buf \u001b[38;5;241m=\u001b[39m BytesIO(handles\u001b[38;5;241m.\u001b[39mhandle\u001b[38;5;241m.\u001b[39mread())\n\u001b[1;32m   1161\u001b[0m \u001b[38;5;28mself\u001b[39m\u001b[38;5;241m.\u001b[39m_read_header()\n",
      "File \u001b[0;32m~/mambaforge/lib/python3.9/site-packages/pandas/io/common.py:795\u001b[0m, in \u001b[0;36mget_handle\u001b[0;34m(path_or_buf, mode, encoding, compression, memory_map, is_text, errors, storage_options)\u001b[0m\n\u001b[1;32m    786\u001b[0m         handle \u001b[38;5;241m=\u001b[39m \u001b[38;5;28mopen\u001b[39m(\n\u001b[1;32m    787\u001b[0m             handle,\n\u001b[1;32m    788\u001b[0m             ioargs\u001b[38;5;241m.\u001b[39mmode,\n\u001b[0;32m   (...)\u001b[0m\n\u001b[1;32m    791\u001b[0m             newline\u001b[38;5;241m=\u001b[39m\u001b[38;5;124m\"\u001b[39m\u001b[38;5;124m\"\u001b[39m,\n\u001b[1;32m    792\u001b[0m         )\n\u001b[1;32m    793\u001b[0m     \u001b[38;5;28;01melse\u001b[39;00m:\n\u001b[1;32m    794\u001b[0m         \u001b[38;5;66;03m# Binary mode\u001b[39;00m\n\u001b[0;32m--> 795\u001b[0m         handle \u001b[38;5;241m=\u001b[39m \u001b[38;5;28;43mopen\u001b[39;49m\u001b[43m(\u001b[49m\u001b[43mhandle\u001b[49m\u001b[43m,\u001b[49m\u001b[43m \u001b[49m\u001b[43mioargs\u001b[49m\u001b[38;5;241;43m.\u001b[39;49m\u001b[43mmode\u001b[49m\u001b[43m)\u001b[49m\n\u001b[1;32m    796\u001b[0m     handles\u001b[38;5;241m.\u001b[39mappend(handle)\n\u001b[1;32m    798\u001b[0m \u001b[38;5;66;03m# Convert BytesIO or file objects passed with an encoding\u001b[39;00m\n",
      "\u001b[0;31mFileNotFoundError\u001b[0m: [Errno 2] No such file or directory: 'DataDrive2030_PD_EXTERNAL.dta'"
     ]
    }
   ],
   "source": [
    "data= pd.read_stata('DataDrive2030_PD_EXTERNAL.dta')"
   ]
  },
  {
   "cell_type": "code",
   "execution_count": null,
   "id": "ec60ab2e",
   "metadata": {},
   "outputs": [],
   "source": [
    "# Checking the shape of the dataset\n",
    "data.shape"
   ]
  },
  {
   "cell_type": "code",
   "execution_count": null,
   "id": "aef966a4",
   "metadata": {},
   "outputs": [],
   "source": [
    "# having a look at the complete set of features in the dataset\n",
    "for i, j in enumerate(data.columns):\n",
    "    print(i+1, \":\", j)"
   ]
  },
  {
   "cell_type": "code",
   "execution_count": null,
   "id": "5808f126",
   "metadata": {},
   "outputs": [],
   "source": [
    "scores_df= data[['child_score_item_1', 'child_score_item_2', 'child_score_item_3',\n",
    "       'child_score_item_4', 'child_score_item_5',\n",
    "       'child_score_item_6', 'child_score_item_7', 'child_score_item_8',\n",
    "       'child_score_item_9', 'child_score_item_10',\n",
    "       'child_score_item_11', 'child_score_item_12', 'child_score_item_13',\n",
    "       'child_score_item_14', 'child_score_item_15',\n",
    "       'child_score_item_16', 'child_score_item_17', \n",
    "       'child_score_item_18', 'child_score_item_19', 'child_score_item_20',\n",
    "       'child_score_item_21', 'child_score_item_22', 'child_score_item_23',\n",
    "       ]]\n",
    "\n",
    "domain_df= data[[\n",
    "    'child_domain_1', 'child_domain_2', 'child_domain_3', \n",
    "    'child_domain_4', 'child_domain_5'\n",
    "]]"
   ]
  },
  {
   "cell_type": "code",
   "execution_count": null,
   "id": "a90d7e49",
   "metadata": {
    "scrolled": true
   },
   "outputs": [],
   "source": [
    "scores_df.info()"
   ]
  },
  {
   "cell_type": "code",
   "execution_count": null,
   "id": "c566a6e0",
   "metadata": {},
   "outputs": [],
   "source": [
    "domain_df.info()"
   ]
  },
  {
   "cell_type": "code",
   "execution_count": null,
   "id": "f5f4e180",
   "metadata": {},
   "outputs": [],
   "source": [
    "x_scores= scores_df.values\n",
    "x_domain= domain_df.values"
   ]
  },
  {
   "cell_type": "code",
   "execution_count": 11,
   "id": "eaba3273",
   "metadata": {
    "scrolled": true
   },
   "outputs": [
    {
     "name": "stdout",
     "output_type": "stream",
     "text": [
      "[[2.91000009 2.06999993 0.         4.25       4.19999981 4.57999992\n",
      "  3.76999998 4.51000023 2.80999994 2.83999991 2.47000003 1.38\n",
      "  2.6500001  3.1099999  1.34000003 4.03000021 6.13999987 3.21000004\n",
      "  0.         2.47000003 2.4000001  2.19000006 2.97000003]\n",
      " [2.91000009 1.         2.22000003 4.25       4.19999981 4.57999992\n",
      "  4.73999977 5.32999992 4.05000019 2.83999991 2.47000003 2.79999995\n",
      "  2.6500001  3.1099999  1.34000003 4.03000021 3.01999998 3.21000004\n",
      "  2.6400001  2.47000003 2.4000001  3.08999991 0.        ]]\n"
     ]
    }
   ],
   "source": [
    "print(x_scores[:2])"
   ]
  },
  {
   "cell_type": "code",
   "execution_count": 12,
   "id": "d141d943",
   "metadata": {},
   "outputs": [
    {
     "name": "stdout",
     "output_type": "stream",
     "text": [
      "[[ 9.22999954 17.05999947 12.14999962 14.61999893 13.23999977]\n",
      " [10.38000011 18.85000038 14.81000042 11.5        13.81000042]]\n"
     ]
    }
   ],
   "source": [
    "print(x_domain[:2])"
   ]
  },
  {
   "cell_type": "code",
   "execution_count": 13,
   "id": "a6da1248",
   "metadata": {},
   "outputs": [],
   "source": [
    "mx_scaler= MinMaxScaler()\n",
    "scores_scaled = mx_scaler.fit_transform(x_scores)\n",
    "domain_scaled = mx_scaler.fit_transform(x_domain)\n",
    "mx_scores_scaled_df = pd.DataFrame(scores_scaled, columns=scores_df.columns)\n",
    "mx_domain_scaled_df = pd.DataFrame(domain_scaled, columns=domain_df.columns)"
   ]
  },
  {
   "cell_type": "code",
   "execution_count": 14,
   "id": "31de2a9b",
   "metadata": {},
   "outputs": [],
   "source": [
    "st_scaler= StandardScaler()\n",
    "scores_scaled = st_scaler.fit_transform(x_scores)\n",
    "domain_scaled = st_scaler.fit_transform(x_domain)\n",
    "st_scores_scaled_df = pd.DataFrame(scores_scaled, columns=scores_df.columns)\n",
    "st_domain_scaled_df = pd.DataFrame(domain_scaled, columns=domain_df.columns)"
   ]
  },
  {
   "cell_type": "code",
   "execution_count": 15,
   "id": "818b9e94",
   "metadata": {},
   "outputs": [],
   "source": [
    "x_scores_nan= np.isnan(x_scores)\n",
    "x_scores[x_scores_nan]= 0\n",
    "x_domain_nan= np.isnan(x_domain)\n",
    "x_domain[x_domain_nan]= 0\n",
    "\n",
    "nn_scaler= Normalizer()\n",
    "scores_scaled = nn_scaler.fit_transform(x_scores)\n",
    "domain_scaled = nn_scaler.fit_transform(x_domain)\n",
    "nn_scores_scaled_df = pd.DataFrame(scores_scaled, columns=scores_df.columns)\n",
    "nn_domain_scaled_df = pd.DataFrame(domain_scaled, columns=domain_df.columns)"
   ]
  },
  {
   "cell_type": "code",
   "execution_count": 16,
   "id": "b1b2e9e8",
   "metadata": {},
   "outputs": [
    {
     "data": {
      "text/html": [
       "<div>\n",
       "<style scoped>\n",
       "    .dataframe tbody tr th:only-of-type {\n",
       "        vertical-align: middle;\n",
       "    }\n",
       "\n",
       "    .dataframe tbody tr th {\n",
       "        vertical-align: top;\n",
       "    }\n",
       "\n",
       "    .dataframe thead th {\n",
       "        text-align: right;\n",
       "    }\n",
       "</style>\n",
       "<table border=\"1\" class=\"dataframe\">\n",
       "  <thead>\n",
       "    <tr style=\"text-align: right;\">\n",
       "      <th></th>\n",
       "      <th>child_score_item_1</th>\n",
       "      <th>child_score_item_2</th>\n",
       "      <th>child_score_item_3</th>\n",
       "      <th>child_score_item_4</th>\n",
       "      <th>child_score_item_5</th>\n",
       "      <th>child_score_item_6</th>\n",
       "      <th>child_score_item_7</th>\n",
       "      <th>child_score_item_8</th>\n",
       "      <th>child_score_item_9</th>\n",
       "      <th>child_score_item_10</th>\n",
       "      <th>...</th>\n",
       "      <th>child_score_item_14</th>\n",
       "      <th>child_score_item_15</th>\n",
       "      <th>child_score_item_16</th>\n",
       "      <th>child_score_item_17</th>\n",
       "      <th>child_score_item_18</th>\n",
       "      <th>child_score_item_19</th>\n",
       "      <th>child_score_item_20</th>\n",
       "      <th>child_score_item_21</th>\n",
       "      <th>child_score_item_22</th>\n",
       "      <th>child_score_item_23</th>\n",
       "    </tr>\n",
       "  </thead>\n",
       "  <tbody>\n",
       "    <tr>\n",
       "      <th>0</th>\n",
       "      <td>1.0</td>\n",
       "      <td>0.576602</td>\n",
       "      <td>0.000000</td>\n",
       "      <td>0.590278</td>\n",
       "      <td>1.000000</td>\n",
       "      <td>1.0</td>\n",
       "      <td>0.795359</td>\n",
       "      <td>0.695988</td>\n",
       "      <td>0.466003</td>\n",
       "      <td>0.629712</td>\n",
       "      <td>...</td>\n",
       "      <td>1.000000</td>\n",
       "      <td>0.199405</td>\n",
       "      <td>1.000000</td>\n",
       "      <td>1.000000</td>\n",
       "      <td>1.0</td>\n",
       "      <td>0.00000</td>\n",
       "      <td>0.72434</td>\n",
       "      <td>0.757098</td>\n",
       "      <td>0.708738</td>\n",
       "      <td>0.802703</td>\n",
       "    </tr>\n",
       "    <tr>\n",
       "      <th>1</th>\n",
       "      <td>1.0</td>\n",
       "      <td>0.278552</td>\n",
       "      <td>0.352381</td>\n",
       "      <td>0.590278</td>\n",
       "      <td>1.000000</td>\n",
       "      <td>1.0</td>\n",
       "      <td>1.000000</td>\n",
       "      <td>0.822531</td>\n",
       "      <td>0.671642</td>\n",
       "      <td>0.629712</td>\n",
       "      <td>...</td>\n",
       "      <td>1.000000</td>\n",
       "      <td>0.199405</td>\n",
       "      <td>1.000000</td>\n",
       "      <td>0.491857</td>\n",
       "      <td>1.0</td>\n",
       "      <td>0.77193</td>\n",
       "      <td>0.72434</td>\n",
       "      <td>0.757098</td>\n",
       "      <td>1.000000</td>\n",
       "      <td>0.000000</td>\n",
       "    </tr>\n",
       "    <tr>\n",
       "      <th>2</th>\n",
       "      <td>1.0</td>\n",
       "      <td>0.576602</td>\n",
       "      <td>0.000000</td>\n",
       "      <td>0.363889</td>\n",
       "      <td>0.740476</td>\n",
       "      <td>0.0</td>\n",
       "      <td>0.795359</td>\n",
       "      <td>0.609568</td>\n",
       "      <td>0.000000</td>\n",
       "      <td>0.000000</td>\n",
       "      <td>...</td>\n",
       "      <td>0.321543</td>\n",
       "      <td>0.000000</td>\n",
       "      <td>1.000000</td>\n",
       "      <td>1.000000</td>\n",
       "      <td>0.0</td>\n",
       "      <td>0.77193</td>\n",
       "      <td>0.72434</td>\n",
       "      <td>0.757098</td>\n",
       "      <td>0.708738</td>\n",
       "      <td>0.000000</td>\n",
       "    </tr>\n",
       "    <tr>\n",
       "      <th>3</th>\n",
       "      <td>1.0</td>\n",
       "      <td>0.000000</td>\n",
       "      <td>0.352381</td>\n",
       "      <td>0.000000</td>\n",
       "      <td>1.000000</td>\n",
       "      <td>1.0</td>\n",
       "      <td>0.658228</td>\n",
       "      <td>0.526235</td>\n",
       "      <td>0.466003</td>\n",
       "      <td>0.629712</td>\n",
       "      <td>...</td>\n",
       "      <td>1.000000</td>\n",
       "      <td>0.000000</td>\n",
       "      <td>0.523573</td>\n",
       "      <td>1.000000</td>\n",
       "      <td>1.0</td>\n",
       "      <td>0.77193</td>\n",
       "      <td>0.72434</td>\n",
       "      <td>0.394322</td>\n",
       "      <td>0.000000</td>\n",
       "      <td>0.000000</td>\n",
       "    </tr>\n",
       "    <tr>\n",
       "      <th>4</th>\n",
       "      <td>1.0</td>\n",
       "      <td>1.000000</td>\n",
       "      <td>0.352381</td>\n",
       "      <td>0.363889</td>\n",
       "      <td>0.740476</td>\n",
       "      <td>0.0</td>\n",
       "      <td>0.795359</td>\n",
       "      <td>0.424383</td>\n",
       "      <td>0.466003</td>\n",
       "      <td>0.000000</td>\n",
       "      <td>...</td>\n",
       "      <td>1.000000</td>\n",
       "      <td>0.000000</td>\n",
       "      <td>1.000000</td>\n",
       "      <td>0.000000</td>\n",
       "      <td>0.0</td>\n",
       "      <td>0.00000</td>\n",
       "      <td>0.72434</td>\n",
       "      <td>0.757098</td>\n",
       "      <td>1.000000</td>\n",
       "      <td>0.802703</td>\n",
       "    </tr>\n",
       "  </tbody>\n",
       "</table>\n",
       "<p>5 rows × 23 columns</p>\n",
       "</div>"
      ],
      "text/plain": [
       "   child_score_item_1  child_score_item_2  child_score_item_3  \\\n",
       "0                 1.0            0.576602            0.000000   \n",
       "1                 1.0            0.278552            0.352381   \n",
       "2                 1.0            0.576602            0.000000   \n",
       "3                 1.0            0.000000            0.352381   \n",
       "4                 1.0            1.000000            0.352381   \n",
       "\n",
       "   child_score_item_4  child_score_item_5  child_score_item_6  \\\n",
       "0            0.590278            1.000000                 1.0   \n",
       "1            0.590278            1.000000                 1.0   \n",
       "2            0.363889            0.740476                 0.0   \n",
       "3            0.000000            1.000000                 1.0   \n",
       "4            0.363889            0.740476                 0.0   \n",
       "\n",
       "   child_score_item_7  child_score_item_8  child_score_item_9  \\\n",
       "0            0.795359            0.695988            0.466003   \n",
       "1            1.000000            0.822531            0.671642   \n",
       "2            0.795359            0.609568            0.000000   \n",
       "3            0.658228            0.526235            0.466003   \n",
       "4            0.795359            0.424383            0.466003   \n",
       "\n",
       "   child_score_item_10  ...  child_score_item_14  child_score_item_15  \\\n",
       "0             0.629712  ...             1.000000             0.199405   \n",
       "1             0.629712  ...             1.000000             0.199405   \n",
       "2             0.000000  ...             0.321543             0.000000   \n",
       "3             0.629712  ...             1.000000             0.000000   \n",
       "4             0.000000  ...             1.000000             0.000000   \n",
       "\n",
       "   child_score_item_16  child_score_item_17  child_score_item_18  \\\n",
       "0             1.000000             1.000000                  1.0   \n",
       "1             1.000000             0.491857                  1.0   \n",
       "2             1.000000             1.000000                  0.0   \n",
       "3             0.523573             1.000000                  1.0   \n",
       "4             1.000000             0.000000                  0.0   \n",
       "\n",
       "   child_score_item_19  child_score_item_20  child_score_item_21  \\\n",
       "0              0.00000              0.72434             0.757098   \n",
       "1              0.77193              0.72434             0.757098   \n",
       "2              0.77193              0.72434             0.757098   \n",
       "3              0.77193              0.72434             0.394322   \n",
       "4              0.00000              0.72434             0.757098   \n",
       "\n",
       "   child_score_item_22  child_score_item_23  \n",
       "0             0.708738             0.802703  \n",
       "1             1.000000             0.000000  \n",
       "2             0.708738             0.000000  \n",
       "3             0.000000             0.000000  \n",
       "4             1.000000             0.802703  \n",
       "\n",
       "[5 rows x 23 columns]"
      ]
     },
     "execution_count": 16,
     "metadata": {},
     "output_type": "execute_result"
    }
   ],
   "source": [
    "mx_scores_scaled_df.head()"
   ]
  },
  {
   "cell_type": "code",
   "execution_count": 17,
   "id": "0e5fc520",
   "metadata": {},
   "outputs": [
    {
     "data": {
      "text/html": [
       "<div>\n",
       "<style scoped>\n",
       "    .dataframe tbody tr th:only-of-type {\n",
       "        vertical-align: middle;\n",
       "    }\n",
       "\n",
       "    .dataframe tbody tr th {\n",
       "        vertical-align: top;\n",
       "    }\n",
       "\n",
       "    .dataframe thead th {\n",
       "        text-align: right;\n",
       "    }\n",
       "</style>\n",
       "<table border=\"1\" class=\"dataframe\">\n",
       "  <thead>\n",
       "    <tr style=\"text-align: right;\">\n",
       "      <th></th>\n",
       "      <th>child_score_item_1</th>\n",
       "      <th>child_score_item_2</th>\n",
       "      <th>child_score_item_3</th>\n",
       "      <th>child_score_item_4</th>\n",
       "      <th>child_score_item_5</th>\n",
       "      <th>child_score_item_6</th>\n",
       "      <th>child_score_item_7</th>\n",
       "      <th>child_score_item_8</th>\n",
       "      <th>child_score_item_9</th>\n",
       "      <th>child_score_item_10</th>\n",
       "      <th>...</th>\n",
       "      <th>child_score_item_14</th>\n",
       "      <th>child_score_item_15</th>\n",
       "      <th>child_score_item_16</th>\n",
       "      <th>child_score_item_17</th>\n",
       "      <th>child_score_item_18</th>\n",
       "      <th>child_score_item_19</th>\n",
       "      <th>child_score_item_20</th>\n",
       "      <th>child_score_item_21</th>\n",
       "      <th>child_score_item_22</th>\n",
       "      <th>child_score_item_23</th>\n",
       "    </tr>\n",
       "  </thead>\n",
       "  <tbody>\n",
       "    <tr>\n",
       "      <th>0</th>\n",
       "      <td>0.570777</td>\n",
       "      <td>-0.106195</td>\n",
       "      <td>-1.086458</td>\n",
       "      <td>0.957068</td>\n",
       "      <td>0.592810</td>\n",
       "      <td>1.425053</td>\n",
       "      <td>0.383230</td>\n",
       "      <td>0.781848</td>\n",
       "      <td>0.563869</td>\n",
       "      <td>1.329165</td>\n",
       "      <td>...</td>\n",
       "      <td>1.001914</td>\n",
       "      <td>-0.288747</td>\n",
       "      <td>1.363337</td>\n",
       "      <td>2.632399</td>\n",
       "      <td>1.296897</td>\n",
       "      <td>-1.213140</td>\n",
       "      <td>0.269265</td>\n",
       "      <td>0.153991</td>\n",
       "      <td>0.064948</td>\n",
       "      <td>1.199051</td>\n",
       "    </tr>\n",
       "    <tr>\n",
       "      <th>1</th>\n",
       "      <td>0.570777</td>\n",
       "      <td>-0.981344</td>\n",
       "      <td>0.072437</td>\n",
       "      <td>0.957068</td>\n",
       "      <td>0.592810</td>\n",
       "      <td>1.425053</td>\n",
       "      <td>1.017617</td>\n",
       "      <td>1.469697</td>\n",
       "      <td>1.226187</td>\n",
       "      <td>1.329165</td>\n",
       "      <td>...</td>\n",
       "      <td>1.001914</td>\n",
       "      <td>-0.288747</td>\n",
       "      <td>1.363337</td>\n",
       "      <td>0.711508</td>\n",
       "      <td>1.296897</td>\n",
       "      <td>0.545239</td>\n",
       "      <td>0.269265</td>\n",
       "      <td>0.153991</td>\n",
       "      <td>0.865868</td>\n",
       "      <td>-0.767163</td>\n",
       "    </tr>\n",
       "    <tr>\n",
       "      <th>2</th>\n",
       "      <td>0.570777</td>\n",
       "      <td>-0.106195</td>\n",
       "      <td>-1.086458</td>\n",
       "      <td>0.208366</td>\n",
       "      <td>-0.625358</td>\n",
       "      <td>-0.701728</td>\n",
       "      <td>0.383230</td>\n",
       "      <td>0.312097</td>\n",
       "      <td>-0.937029</td>\n",
       "      <td>-0.593910</td>\n",
       "      <td>...</td>\n",
       "      <td>-0.767916</td>\n",
       "      <td>-0.883073</td>\n",
       "      <td>1.363337</td>\n",
       "      <td>2.632399</td>\n",
       "      <td>-0.771071</td>\n",
       "      <td>0.545239</td>\n",
       "      <td>0.269265</td>\n",
       "      <td>0.153991</td>\n",
       "      <td>0.064948</td>\n",
       "      <td>-0.767163</td>\n",
       "    </tr>\n",
       "    <tr>\n",
       "      <th>3</th>\n",
       "      <td>0.570777</td>\n",
       "      <td>-1.799240</td>\n",
       "      <td>0.072437</td>\n",
       "      <td>-0.995070</td>\n",
       "      <td>0.592810</td>\n",
       "      <td>1.425053</td>\n",
       "      <td>-0.041876</td>\n",
       "      <td>-0.140877</td>\n",
       "      <td>0.563869</td>\n",
       "      <td>1.329165</td>\n",
       "      <td>...</td>\n",
       "      <td>1.001914</td>\n",
       "      <td>-0.883073</td>\n",
       "      <td>0.115735</td>\n",
       "      <td>2.632399</td>\n",
       "      <td>1.296897</td>\n",
       "      <td>0.545239</td>\n",
       "      <td>0.269265</td>\n",
       "      <td>-1.188137</td>\n",
       "      <td>-1.883958</td>\n",
       "      <td>-0.767163</td>\n",
       "    </tr>\n",
       "    <tr>\n",
       "      <th>4</th>\n",
       "      <td>0.570777</td>\n",
       "      <td>1.137007</td>\n",
       "      <td>0.072437</td>\n",
       "      <td>0.208366</td>\n",
       "      <td>-0.625358</td>\n",
       "      <td>-0.701728</td>\n",
       "      <td>0.383230</td>\n",
       "      <td>-0.694511</td>\n",
       "      <td>0.563869</td>\n",
       "      <td>-0.593910</td>\n",
       "      <td>...</td>\n",
       "      <td>1.001914</td>\n",
       "      <td>-0.883073</td>\n",
       "      <td>1.363337</td>\n",
       "      <td>-1.147816</td>\n",
       "      <td>-0.771071</td>\n",
       "      <td>-1.213140</td>\n",
       "      <td>0.269265</td>\n",
       "      <td>0.153991</td>\n",
       "      <td>0.865868</td>\n",
       "      <td>1.199051</td>\n",
       "    </tr>\n",
       "  </tbody>\n",
       "</table>\n",
       "<p>5 rows × 23 columns</p>\n",
       "</div>"
      ],
      "text/plain": [
       "   child_score_item_1  child_score_item_2  child_score_item_3  \\\n",
       "0            0.570777           -0.106195           -1.086458   \n",
       "1            0.570777           -0.981344            0.072437   \n",
       "2            0.570777           -0.106195           -1.086458   \n",
       "3            0.570777           -1.799240            0.072437   \n",
       "4            0.570777            1.137007            0.072437   \n",
       "\n",
       "   child_score_item_4  child_score_item_5  child_score_item_6  \\\n",
       "0            0.957068            0.592810            1.425053   \n",
       "1            0.957068            0.592810            1.425053   \n",
       "2            0.208366           -0.625358           -0.701728   \n",
       "3           -0.995070            0.592810            1.425053   \n",
       "4            0.208366           -0.625358           -0.701728   \n",
       "\n",
       "   child_score_item_7  child_score_item_8  child_score_item_9  \\\n",
       "0            0.383230            0.781848            0.563869   \n",
       "1            1.017617            1.469697            1.226187   \n",
       "2            0.383230            0.312097           -0.937029   \n",
       "3           -0.041876           -0.140877            0.563869   \n",
       "4            0.383230           -0.694511            0.563869   \n",
       "\n",
       "   child_score_item_10  ...  child_score_item_14  child_score_item_15  \\\n",
       "0             1.329165  ...             1.001914            -0.288747   \n",
       "1             1.329165  ...             1.001914            -0.288747   \n",
       "2            -0.593910  ...            -0.767916            -0.883073   \n",
       "3             1.329165  ...             1.001914            -0.883073   \n",
       "4            -0.593910  ...             1.001914            -0.883073   \n",
       "\n",
       "   child_score_item_16  child_score_item_17  child_score_item_18  \\\n",
       "0             1.363337             2.632399             1.296897   \n",
       "1             1.363337             0.711508             1.296897   \n",
       "2             1.363337             2.632399            -0.771071   \n",
       "3             0.115735             2.632399             1.296897   \n",
       "4             1.363337            -1.147816            -0.771071   \n",
       "\n",
       "   child_score_item_19  child_score_item_20  child_score_item_21  \\\n",
       "0            -1.213140             0.269265             0.153991   \n",
       "1             0.545239             0.269265             0.153991   \n",
       "2             0.545239             0.269265             0.153991   \n",
       "3             0.545239             0.269265            -1.188137   \n",
       "4            -1.213140             0.269265             0.153991   \n",
       "\n",
       "   child_score_item_22  child_score_item_23  \n",
       "0             0.064948             1.199051  \n",
       "1             0.865868            -0.767163  \n",
       "2             0.064948            -0.767163  \n",
       "3            -1.883958            -0.767163  \n",
       "4             0.865868             1.199051  \n",
       "\n",
       "[5 rows x 23 columns]"
      ]
     },
     "execution_count": 17,
     "metadata": {},
     "output_type": "execute_result"
    }
   ],
   "source": [
    "st_scores_scaled_df.head()"
   ]
  },
  {
   "cell_type": "code",
   "execution_count": 18,
   "id": "cdc9de47",
   "metadata": {
    "scrolled": true
   },
   "outputs": [
    {
     "data": {
      "text/html": [
       "<div>\n",
       "<style scoped>\n",
       "    .dataframe tbody tr th:only-of-type {\n",
       "        vertical-align: middle;\n",
       "    }\n",
       "\n",
       "    .dataframe tbody tr th {\n",
       "        vertical-align: top;\n",
       "    }\n",
       "\n",
       "    .dataframe thead th {\n",
       "        text-align: right;\n",
       "    }\n",
       "</style>\n",
       "<table border=\"1\" class=\"dataframe\">\n",
       "  <thead>\n",
       "    <tr style=\"text-align: right;\">\n",
       "      <th></th>\n",
       "      <th>child_score_item_1</th>\n",
       "      <th>child_score_item_2</th>\n",
       "      <th>child_score_item_3</th>\n",
       "      <th>child_score_item_4</th>\n",
       "      <th>child_score_item_5</th>\n",
       "      <th>child_score_item_6</th>\n",
       "      <th>child_score_item_7</th>\n",
       "      <th>child_score_item_8</th>\n",
       "      <th>child_score_item_9</th>\n",
       "      <th>child_score_item_10</th>\n",
       "      <th>...</th>\n",
       "      <th>child_score_item_14</th>\n",
       "      <th>child_score_item_15</th>\n",
       "      <th>child_score_item_16</th>\n",
       "      <th>child_score_item_17</th>\n",
       "      <th>child_score_item_18</th>\n",
       "      <th>child_score_item_19</th>\n",
       "      <th>child_score_item_20</th>\n",
       "      <th>child_score_item_21</th>\n",
       "      <th>child_score_item_22</th>\n",
       "      <th>child_score_item_23</th>\n",
       "    </tr>\n",
       "  </thead>\n",
       "  <tbody>\n",
       "    <tr>\n",
       "      <th>0</th>\n",
       "      <td>0.189359</td>\n",
       "      <td>0.134699</td>\n",
       "      <td>0.000000</td>\n",
       "      <td>0.276555</td>\n",
       "      <td>0.273301</td>\n",
       "      <td>0.298029</td>\n",
       "      <td>0.245321</td>\n",
       "      <td>0.293474</td>\n",
       "      <td>0.182852</td>\n",
       "      <td>0.184804</td>\n",
       "      <td>...</td>\n",
       "      <td>0.202373</td>\n",
       "      <td>0.087196</td>\n",
       "      <td>0.262239</td>\n",
       "      <td>0.399541</td>\n",
       "      <td>0.208880</td>\n",
       "      <td>0.000000</td>\n",
       "      <td>0.160727</td>\n",
       "      <td>0.156172</td>\n",
       "      <td>0.142507</td>\n",
       "      <td>0.193263</td>\n",
       "    </tr>\n",
       "    <tr>\n",
       "      <th>1</th>\n",
       "      <td>0.186717</td>\n",
       "      <td>0.064164</td>\n",
       "      <td>0.142444</td>\n",
       "      <td>0.272696</td>\n",
       "      <td>0.269488</td>\n",
       "      <td>0.293871</td>\n",
       "      <td>0.304137</td>\n",
       "      <td>0.341993</td>\n",
       "      <td>0.259864</td>\n",
       "      <td>0.182225</td>\n",
       "      <td>...</td>\n",
       "      <td>0.199550</td>\n",
       "      <td>0.085980</td>\n",
       "      <td>0.258580</td>\n",
       "      <td>0.193775</td>\n",
       "      <td>0.205966</td>\n",
       "      <td>0.169393</td>\n",
       "      <td>0.158485</td>\n",
       "      <td>0.153993</td>\n",
       "      <td>0.198266</td>\n",
       "      <td>0.000000</td>\n",
       "    </tr>\n",
       "    <tr>\n",
       "      <th>2</th>\n",
       "      <td>0.240277</td>\n",
       "      <td>0.170918</td>\n",
       "      <td>0.000000</td>\n",
       "      <td>0.216332</td>\n",
       "      <td>0.256790</td>\n",
       "      <td>0.000000</td>\n",
       "      <td>0.311286</td>\n",
       "      <td>0.326149</td>\n",
       "      <td>0.000000</td>\n",
       "      <td>0.000000</td>\n",
       "      <td>...</td>\n",
       "      <td>0.082569</td>\n",
       "      <td>0.000000</td>\n",
       "      <td>0.332754</td>\n",
       "      <td>0.506975</td>\n",
       "      <td>0.000000</td>\n",
       "      <td>0.217983</td>\n",
       "      <td>0.203946</td>\n",
       "      <td>0.198166</td>\n",
       "      <td>0.180827</td>\n",
       "      <td>0.000000</td>\n",
       "    </tr>\n",
       "    <tr>\n",
       "      <th>3</th>\n",
       "      <td>0.212765</td>\n",
       "      <td>0.000000</td>\n",
       "      <td>0.162316</td>\n",
       "      <td>0.000000</td>\n",
       "      <td>0.307084</td>\n",
       "      <td>0.334868</td>\n",
       "      <td>0.228120</td>\n",
       "      <td>0.249323</td>\n",
       "      <td>0.205454</td>\n",
       "      <td>0.207647</td>\n",
       "      <td>...</td>\n",
       "      <td>0.227388</td>\n",
       "      <td>0.000000</td>\n",
       "      <td>0.154273</td>\n",
       "      <td>0.448928</td>\n",
       "      <td>0.234700</td>\n",
       "      <td>0.193024</td>\n",
       "      <td>0.180595</td>\n",
       "      <td>0.091394</td>\n",
       "      <td>0.000000</td>\n",
       "      <td>0.000000</td>\n",
       "    </tr>\n",
       "    <tr>\n",
       "      <th>4</th>\n",
       "      <td>0.242784</td>\n",
       "      <td>0.299517</td>\n",
       "      <td>0.185217</td>\n",
       "      <td>0.218589</td>\n",
       "      <td>0.259470</td>\n",
       "      <td>0.000000</td>\n",
       "      <td>0.314535</td>\n",
       "      <td>0.229435</td>\n",
       "      <td>0.234441</td>\n",
       "      <td>0.000000</td>\n",
       "      <td>...</td>\n",
       "      <td>0.259470</td>\n",
       "      <td>0.000000</td>\n",
       "      <td>0.336227</td>\n",
       "      <td>0.000000</td>\n",
       "      <td>0.000000</td>\n",
       "      <td>0.000000</td>\n",
       "      <td>0.206074</td>\n",
       "      <td>0.200234</td>\n",
       "      <td>0.257802</td>\n",
       "      <td>0.247790</td>\n",
       "    </tr>\n",
       "  </tbody>\n",
       "</table>\n",
       "<p>5 rows × 23 columns</p>\n",
       "</div>"
      ],
      "text/plain": [
       "   child_score_item_1  child_score_item_2  child_score_item_3  \\\n",
       "0            0.189359            0.134699            0.000000   \n",
       "1            0.186717            0.064164            0.142444   \n",
       "2            0.240277            0.170918            0.000000   \n",
       "3            0.212765            0.000000            0.162316   \n",
       "4            0.242784            0.299517            0.185217   \n",
       "\n",
       "   child_score_item_4  child_score_item_5  child_score_item_6  \\\n",
       "0            0.276555            0.273301            0.298029   \n",
       "1            0.272696            0.269488            0.293871   \n",
       "2            0.216332            0.256790            0.000000   \n",
       "3            0.000000            0.307084            0.334868   \n",
       "4            0.218589            0.259470            0.000000   \n",
       "\n",
       "   child_score_item_7  child_score_item_8  child_score_item_9  \\\n",
       "0            0.245321            0.293474            0.182852   \n",
       "1            0.304137            0.341993            0.259864   \n",
       "2            0.311286            0.326149            0.000000   \n",
       "3            0.228120            0.249323            0.205454   \n",
       "4            0.314535            0.229435            0.234441   \n",
       "\n",
       "   child_score_item_10  ...  child_score_item_14  child_score_item_15  \\\n",
       "0             0.184804  ...             0.202373             0.087196   \n",
       "1             0.182225  ...             0.199550             0.085980   \n",
       "2             0.000000  ...             0.082569             0.000000   \n",
       "3             0.207647  ...             0.227388             0.000000   \n",
       "4             0.000000  ...             0.259470             0.000000   \n",
       "\n",
       "   child_score_item_16  child_score_item_17  child_score_item_18  \\\n",
       "0             0.262239             0.399541             0.208880   \n",
       "1             0.258580             0.193775             0.205966   \n",
       "2             0.332754             0.506975             0.000000   \n",
       "3             0.154273             0.448928             0.234700   \n",
       "4             0.336227             0.000000             0.000000   \n",
       "\n",
       "   child_score_item_19  child_score_item_20  child_score_item_21  \\\n",
       "0             0.000000             0.160727             0.156172   \n",
       "1             0.169393             0.158485             0.153993   \n",
       "2             0.217983             0.203946             0.198166   \n",
       "3             0.193024             0.180595             0.091394   \n",
       "4             0.000000             0.206074             0.200234   \n",
       "\n",
       "   child_score_item_22  child_score_item_23  \n",
       "0             0.142507             0.193263  \n",
       "1             0.198266             0.000000  \n",
       "2             0.180827             0.000000  \n",
       "3             0.000000             0.000000  \n",
       "4             0.257802             0.247790  \n",
       "\n",
       "[5 rows x 23 columns]"
      ]
     },
     "execution_count": 18,
     "metadata": {},
     "output_type": "execute_result"
    }
   ],
   "source": [
    "nn_scores_scaled_df.head()"
   ]
  },
  {
   "cell_type": "code",
   "execution_count": 21,
   "id": "3028d850",
   "metadata": {},
   "outputs": [],
   "source": [
    "def create_average(df, col_name):\n",
    "    \"\"\"\n",
    "    \n",
    "    \"\"\"\n",
    "    df[col_name]= df.iloc[:,:].mean(axis=1)\n",
    "    return df[col_name]"
   ]
  },
  {
   "cell_type": "code",
   "execution_count": 22,
   "id": "2160f4f3",
   "metadata": {},
   "outputs": [],
   "source": [
    "data['score_item_scaled_average']= create_average(mx_scores_scaled_df, 'average')"
   ]
  },
  {
   "cell_type": "code",
   "execution_count": 23,
   "id": "5b60e61d",
   "metadata": {},
   "outputs": [],
   "source": [
    "data['child_domain_scaled_average']= create_average(mx_domain_scaled_df, 'average')"
   ]
  },
  {
   "cell_type": "code",
   "execution_count": 98,
   "id": "84c03be1",
   "metadata": {},
   "outputs": [],
   "source": [
    "data[['score_item_scaled_average', 'child_domain_scaled_average']].apply(lambda x: round(x*10, 2))"
   ]
  },
  {
   "cell_type": "code",
   "execution_count": 32,
   "id": "21fbb057",
   "metadata": {},
   "outputs": [],
   "source": [
    "X= data.drop(data.columns[9:37], axis=1)"
   ]
  },
  {
   "cell_type": "code",
   "execution_count": 35,
   "id": "9103329b",
   "metadata": {},
   "outputs": [
    {
     "data": {
      "text/plain": [
       "Index(['child_id', 'data_year', 'data_source', 'child_date', 'child_age',\n",
       "       'child_enrolment_date', 'child_months_enrolment', 'child_grant',\n",
       "       'child_years_in_programme', 'child_age_group', 'child_zha',\n",
       "       'child_zha_w2', 'child_stunted', 'child_stunted_w2',\n",
       "       'PD_1_INT_total_elom_CHILD', 'PD_1_INT_domain_1_CHILD',\n",
       "       'PD_1_INT_domain_2_CHILD', 'PD_1_INT_domain_3_CHILD',\n",
       "       'PD_1_INT_domain_4_CHILD', 'PD_1_INT_domain_5_CHILD', 'PD_2_INT_CHILD',\n",
       "       'PD_4_INT_CHILD', 'PD_1_INT_total_elom_facility',\n",
       "       'PD_1_INT_domain_1_facility', 'PD_1_INT_domain_2_facility',\n",
       "       'PD_1_INT_domain_3_facility', 'PD_1_INT_domain_4_facility',\n",
       "       'PD_1_INT_domain_5_facility', 'PD_2_INT_pc_all_ontrack_facility',\n",
       "       'PD_3_INT_pc_ontrack_facility', 'PD_4_INT_composite_facility',\n",
       "       'PD_1_INT_total_elom_ward', 'PD_1_INT_domain_1_ward',\n",
       "       'PD_1_INT_domain_2_ward', 'PD_1_INT_domain_3_ward',\n",
       "       'PD_1_INT_domain_4_ward', 'PD_1_INT_domain_5_ward',\n",
       "       'PD_2_INT_pc_all_ontrack_ward', 'PD_3_INT_pc_ontrack_ward',\n",
       "       'PD_4_INT_composite_ward', 'PD_1_INT_total_elom_dc',\n",
       "       'PD_1_INT_domain_1_dc', 'PD_1_INT_domain_2_dc', 'PD_1_INT_domain_3_dc',\n",
       "       'PD_1_INT_domain_4_dc', 'PD_1_INT_domain_5_dc',\n",
       "       'PD_2_INT_pc_all_ontrack_dc', 'PD_3_INT_pc_ontrack_dc',\n",
       "       'PD_4_INT_composite_dc', 'PD_1_INT_total_elom_mn'],\n",
       "      dtype='object')"
      ]
     },
     "execution_count": 35,
     "metadata": {},
     "output_type": "execute_result"
    }
   ],
   "source": [
    "X.columns[0:50]"
   ]
  },
  {
   "cell_type": "code",
   "execution_count": 37,
   "id": "24a53120",
   "metadata": {},
   "outputs": [
    {
     "data": {
      "text/plain": [
       "array([[2.91000009, 2.06999993, 0.        , ..., 2.4000001 , 2.19000006,\n",
       "        2.97000003],\n",
       "       [2.91000009, 1.        , 2.22000003, ..., 2.4000001 , 3.08999991,\n",
       "        0.        ],\n",
       "       [2.91000009, 2.06999993, 0.        , ..., 2.4000001 , 2.19000006,\n",
       "        0.        ],\n",
       "       ...,\n",
       "       [2.9100001 , 2.0699999 , 2.22      , ..., 2.4000001 , 2.1900001 ,\n",
       "        2.97      ],\n",
       "       [2.91000009, 3.58999991, 6.30000019, ..., 2.4000001 , 3.08999991,\n",
       "        2.97000003],\n",
       "       [2.91000009, 3.58999991, 2.22000003, ..., 3.17000008, 2.19000006,\n",
       "        0.        ]])"
      ]
     },
     "execution_count": 37,
     "metadata": {},
     "output_type": "execute_result"
    }
   ],
   "source": [
    "x_scores"
   ]
  },
  {
   "cell_type": "code",
   "execution_count": 52,
   "id": "35076f16",
   "metadata": {},
   "outputs": [],
   "source": [
    "a= scores_df.iloc[:, :].sum(axis=1)\n",
    "b= domain_df.iloc[:, :].sum(axis=1)"
   ]
  },
  {
   "cell_type": "code",
   "execution_count": 53,
   "id": "46ed9a15",
   "metadata": {},
   "outputs": [
    {
     "data": {
      "text/plain": [
       "0        False\n",
       "1        False\n",
       "2        False\n",
       "3         True\n",
       "4        False\n",
       "         ...  \n",
       "11817    False\n",
       "11818    False\n",
       "11819    False\n",
       "11820    False\n",
       "11821    False\n",
       "Length: 11822, dtype: bool"
      ]
     },
     "execution_count": 53,
     "metadata": {},
     "output_type": "execute_result"
    }
   ],
   "source": [
    "a== b"
   ]
  },
  {
   "cell_type": "code",
   "execution_count": 54,
   "id": "8900aec1",
   "metadata": {},
   "outputs": [],
   "source": [
    "a= a.apply(lambda x: round(x, 2))\n",
    "b= b.apply(lambda x: round(x, 2))"
   ]
  },
  {
   "cell_type": "code",
   "execution_count": 55,
   "id": "3ad6f38f",
   "metadata": {},
   "outputs": [
    {
     "data": {
      "text/plain": [
       "0        True\n",
       "1        True\n",
       "2        True\n",
       "3        True\n",
       "4        True\n",
       "         ... \n",
       "11817    True\n",
       "11818    True\n",
       "11819    True\n",
       "11820    True\n",
       "11821    True\n",
       "Length: 11822, dtype: bool"
      ]
     },
     "execution_count": 55,
     "metadata": {},
     "output_type": "execute_result"
    }
   ],
   "source": [
    "a==b"
   ]
  },
  {
   "cell_type": "code",
   "execution_count": 62,
   "id": "d7172b37",
   "metadata": {},
   "outputs": [],
   "source": [
    "n = 0\n",
    "check= []\n",
    "check2= []\n",
    "\n",
    "for i in range(len(a)):\n",
    "    if a[i]!= b[i]:\n",
    "        check.append(a[i])\n",
    "        check2.append(a[i]-b[i])"
   ]
  },
  {
   "cell_type": "code",
   "execution_count": 65,
   "id": "a1cfa4db",
   "metadata": {},
   "outputs": [
    {
     "name": "stdout",
     "output_type": "stream",
     "text": [
      "%difference= 19.64%.\n",
      "Total of different= 2322\n",
      "Average= 0.431937984496124\n"
     ]
    }
   ],
   "source": [
    "check3= [(i**2)**0.5 for i in check2]\n",
    "\n",
    "print(f'%difference= {round(len(check)/len(a)*100, 2)}%.\\n\\\n",
    "Total of different= {len(check)}\\nAverage= {np.mean(check3)}\\n')"
   ]
  },
  {
   "cell_type": "code",
   "execution_count": 70,
   "id": "8b05f280",
   "metadata": {},
   "outputs": [],
   "source": [
    "import matplotlib.pyplot as plt\n",
    "import seaborn as sns"
   ]
  },
  {
   "cell_type": "code",
   "execution_count": 105,
   "id": "b2239960",
   "metadata": {},
   "outputs": [
    {
     "data": {
      "image/png": "[encoded data removed]",
      "text/plain": [
       "<Figure size 1080x360 with 2 Axes>"
      ]
     },
     "metadata": {
      "needs_background": "light"
     },
     "output_type": "display_data"
    }
   ],
   "source": [
    "# visual asessment of the didstribution of the data\n",
    "\n",
    "plt.figure(figsize=[15, 5])\n",
    "plt.subplot(1,2,1)\n",
    "arr= plt.hist(data= data, x='score_item_scaled_average', bins=5)\n",
    "plt.title('Distribution of MinMaxScaled Scores Items with a binsoze of 5.')\n",
    "plt.xlabel('Scaled Scores')\n",
    "plt.ylabel('count')\n",
    "for i in range(5):\n",
    "    plt.text(arr[1][i]+0.05,arr[0][i]+50,str(arr[0][i]))\n",
    "\n",
    "plt.subplot(1,2,2)\n",
    "arr= plt.hist(data= data, x='score_item_scaled_average', bins=10)\n",
    "plt.title('Distribution of MinMaxScaled Scores Items with a binsoze of 10.')\n",
    "plt.xlabel('Scaled Scores')\n",
    "plt.ylabel('count')\n",
    "for i in range(10):\n",
    "    plt.text(arr[1][i]+0.02,arr[0][i]+25,str(arr[0][i]))\n",
    "\n",
    "plt.tight_layout()"
   ]
  },
  {
   "cell_type": "code",
   "execution_count": 128,
   "id": "119850c8",
   "metadata": {},
   "outputs": [],
   "source": [
    "from sklearn.preprocessing import LabelEncoder\n",
    "lb= LabelEncoder()\n",
    "\n",
    "n_bins= 5 # change this value to change number of y labels categories\n",
    "y_cat= lb.fit_transform(pd.cut(data['score_item_scaled_average'], n_bins, retbins=True)[0])"
   ]
  },
  {
   "cell_type": "code",
   "execution_count": 130,
   "id": "c695b1ed",
   "metadata": {},
   "outputs": [
    {
     "name": "stdout",
     "output_type": "stream",
     "text": [
      "max y value: 4\n",
      "Min y value: 0\n"
     ]
    }
   ],
   "source": [
    "# viewing min and max values of y\n",
    "print(f'max y value: {y_cat.max()}\\nMin y value: {y_cat.min()}')"
   ]
  },
  {
   "cell_type": "code",
   "execution_count": 131,
   "id": "dd116ba9",
   "metadata": {},
   "outputs": [],
   "source": [
    "# adjusting the y values to start at 1 and end at\n",
    "y_cat= y+1"
   ]
  },
  {
   "cell_type": "code",
   "execution_count": 132,
   "id": "1b3c8fbf",
   "metadata": {},
   "outputs": [
    {
     "name": "stdout",
     "output_type": "stream",
     "text": [
      "max y value: 6\n",
      "Min y value: 2\n"
     ]
    },
    {
     "data": {
      "text/plain": [
       "array([5, 5, 4, ..., 5, 5, 5])"
      ]
     },
     "execution_count": 132,
     "metadata": {},
     "output_type": "execute_result"
    }
   ],
   "source": [
    "# viewing min and max values of y\n",
    "print(f'max y value: {y_cat.max()}\\nMin y value: {y_cat.min()}')\n",
    "y_cat"
   ]
  },
  {
   "cell_type": "code",
   "execution_count": 141,
   "id": "440d5586",
   "metadata": {},
   "outputs": [],
   "source": [
    "y_cont=np.array(data['score_item_scaled_average'].apply(lambda x: round(x, 4)))"
   ]
  },
  {
   "cell_type": "code",
   "execution_count": 142,
   "id": "737707a4",
   "metadata": {},
   "outputs": [
    {
     "data": {
      "text/plain": [
       "array([0.698 , 0.735 , 0.472 , ..., 0.6075, 0.6913, 0.6758])"
      ]
     },
     "execution_count": 142,
     "metadata": {},
     "output_type": "execute_result"
    }
   ],
   "source": [
    "y_cont"
   ]
  },
  {
   "cell_type": "code",
   "execution_count": null,
   "id": "0e599f68",
   "metadata": {},
   "outputs": [],
   "source": []
  }
 ],
 "metadata": {
  "kernelspec": {
   "display_name": "Python 3 (ipykernel)",
   "language": "python",
   "name": "python3"
  },
  "language_info": {
   "codemirror_mode": {
    "name": "ipython",
    "version": 3
   },
   "file_extension": ".py",
   "mimetype": "text/x-python",
   "name": "python",
   "nbconvert_exporter": "python",
   "pygments_lexer": "ipython3",
   "version": "3.9.13"
  }
 },
 "nbformat": 4,
 "nbformat_minor": 5
}
